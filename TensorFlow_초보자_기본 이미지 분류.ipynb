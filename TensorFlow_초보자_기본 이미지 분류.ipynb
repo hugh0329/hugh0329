{
  "nbformat": 4,
  "nbformat_minor": 0,
  "metadata": {
    "colab": {
      "name": "Untitled0.ipynb",
      "provenance": [],
      "mount_file_id": "1f7o1Hj0U-8SbtAbU88myIHWvpRhVt6U0",
      "authorship_tag": "ABX9TyOmdLIwbl4Vjp3OqcCLXyGy",
      "include_colab_link": true
    },
    "kernelspec": {
      "name": "python3",
      "display_name": "Python 3"
    },
    "language_info": {
      "name": "python"
    },
    "accelerator": "GPU"
  },
  "cells": [
    {
      "cell_type": "markdown",
      "metadata": {
        "id": "view-in-github",
        "colab_type": "text"
      },
      "source": [
        "<a href=\"https://colab.research.google.com/github/hugh0329/hugh0329/blob/main/TensorFlow_%EC%B4%88%EB%B3%B4%EC%9E%90_%EA%B8%B0%EB%B3%B8%20%EC%9D%B4%EB%AF%B8%EC%A7%80%20%EB%B6%84%EB%A5%98.ipynb\" target=\"_parent\"><img src=\"https://colab.research.google.com/assets/colab-badge.svg\" alt=\"Open In Colab\"/></a>"
      ]
    },
    {
      "cell_type": "code",
      "source": [
        "import tensorflow as tf\n",
        "import numpy as np\n",
        "import matplotlib.pyplot as plt"
      ],
      "metadata": {
        "id": "RYWhOmNzjnjr"
      },
      "execution_count": 1,
      "outputs": []
    },
    {
      "cell_type": "code",
      "source": [
        "fashion_mnist = tf.keras.datasets.fashion_mnist\n",
        "(train_images, train_labels), (test_images, test_labels) = fashion_mnist.load_data()"
      ],
      "metadata": {
        "colab": {
          "base_uri": "https://localhost:8080/"
        },
        "id": "7Zhq562z44nA",
        "outputId": "8a271ad1-f5bf-4f1d-8475-5c45b46690a9"
      },
      "execution_count": 2,
      "outputs": [
        {
          "output_type": "stream",
          "name": "stdout",
          "text": [
            "Downloading data from https://storage.googleapis.com/tensorflow/tf-keras-datasets/train-labels-idx1-ubyte.gz\n",
            "32768/29515 [=================================] - 0s 0us/step\n",
            "40960/29515 [=========================================] - 0s 0us/step\n",
            "Downloading data from https://storage.googleapis.com/tensorflow/tf-keras-datasets/train-images-idx3-ubyte.gz\n",
            "26427392/26421880 [==============================] - 0s 0us/step\n",
            "26435584/26421880 [==============================] - 0s 0us/step\n",
            "Downloading data from https://storage.googleapis.com/tensorflow/tf-keras-datasets/t10k-labels-idx1-ubyte.gz\n",
            "16384/5148 [===============================================================================================] - 0s 0us/step\n",
            "Downloading data from https://storage.googleapis.com/tensorflow/tf-keras-datasets/t10k-images-idx3-ubyte.gz\n",
            "4423680/4422102 [==============================] - 0s 0us/step\n",
            "4431872/4422102 [==============================] - 0s 0us/step\n"
          ]
        }
      ]
    },
    {
      "cell_type": "code",
      "source": [
        "class_names = ['T-shirt/top', 'Trouser', 'Pullover', 'Dress', 'Coat',\n",
        "               'Sandal', 'Shirt', 'Sneaker', 'Bag', 'Ankle boot']"
      ],
      "metadata": {
        "id": "Sk0AEvo55sLE"
      },
      "execution_count": 4,
      "outputs": []
    },
    {
      "cell_type": "code",
      "source": [
        "train_labels"
      ],
      "metadata": {
        "colab": {
          "base_uri": "https://localhost:8080/"
        },
        "id": "Fr8aPrPy6RCP",
        "outputId": "c8e0828d-9317-472f-9e33-0dc4836de856"
      },
      "execution_count": 5,
      "outputs": [
        {
          "output_type": "execute_result",
          "data": {
            "text/plain": [
              "array([9, 0, 0, ..., 3, 0, 5], dtype=uint8)"
            ]
          },
          "metadata": {},
          "execution_count": 5
        }
      ]
    },
    {
      "cell_type": "code",
      "source": [
        "plt.figure()\n",
        "plt.imshow(train_images[3])\n",
        "plt.colorbar()\n",
        "plt.grid(False)\n",
        "plt.show()"
      ],
      "metadata": {
        "colab": {
          "base_uri": "https://localhost:8080/",
          "height": 265
        },
        "id": "ODZ6d2PF6WPC",
        "outputId": "3995f6cd-d70f-4693-aff7-80c0fde73bb3"
      },
      "execution_count": 6,
      "outputs": [
        {
          "output_type": "display_data",
          "data": {
            "text/plain": [
              "<Figure size 432x288 with 2 Axes>"
            ],
            "image/png": "[encoded data removed]"
          },
          "metadata": {
            "needs_background": "light"
          }
        }
      ]
    },
    {
      "cell_type": "code",
      "source": [
        "train_images = train_images / 255.0\n",
        "\n",
        "test_images = test_images / 255.0"
      ],
      "metadata": {
        "id": "Iu1VTZpH61fP"
      },
      "execution_count": 7,
      "outputs": []
    },
    {
      "cell_type": "code",
      "source": [
        "plt.figure(figsize=(10,10))\n",
        "for i in range(25):\n",
        "  plt.subplot(5,5,i+1)\n",
        "  plt.xticks([])\n",
        "  plt.yticks([])\n",
        "  plt.grid(False)\n",
        "  plt.imshow(train_images[i], cmap=plt.cm.binary)\n",
        "  plt.xlabel(class_names[train_labels[i]])\n",
        "plt.show()"
      ],
      "metadata": {
        "colab": {
          "base_uri": "https://localhost:8080/",
          "height": 589
        },
        "id": "NPbSDy5N7GWv",
        "outputId": "96fa18ca-a7bc-4b8d-fd2d-1ae3539a450e"
      },
      "execution_count": 8,
      "outputs": [
        {
          "output_type": "display_data",
          "data": {
            "text/plain": [
              "<Figure size 720x720 with 25 Axes>"
            ],
            "image/png": "[encoded data removed]"
          },
          "metadata": {}
        }
      ]
    },
    {
      "cell_type": "code",
      "source": [
        "model = tf.keras.Sequential([\n",
        "      tf.keras.layers.Conv2D(filters=128, kernel_size=(3,3),  input_shape=(28,28,1)),\n",
        "      tf.keras.layers.Flatten(),\n",
        "      tf.keras.layers.Dense(128, activation='relu'),\n",
        "      tf.keras.layers.Dense(10)\n",
        "]\n",
        ")"
      ],
      "metadata": {
        "id": "FgcBvylb7mjO"
      },
      "execution_count": 9,
      "outputs": []
    },
    {
      "cell_type": "code",
      "source": [
        "model.compile(optimizer='adam',\n",
        "              loss=tf.keras.losses.SparseCategoricalCrossentropy(from_logits=True),\n",
        "              metrics=['accuracy'])"
      ],
      "metadata": {
        "id": "GVLKW--J80Tv"
      },
      "execution_count": 11,
      "outputs": []
    },
    {
      "cell_type": "code",
      "source": [
        "model.fit(train_images, train_labels, epochs=100,batch_size=64)"
      ],
      "metadata": {
        "colab": {
          "base_uri": "https://localhost:8080/"
        },
        "id": "sqbtAigh9KIR",
        "outputId": "2cd8ddc0-ea66-4be6-ebda-f9de8d213c5d"
      },
      "execution_count": 13,
      "outputs": [
        {
          "output_type": "stream",
          "name": "stdout",
          "text": [
            "Epoch 1/100\n",
            "938/938 [==============================] - 6s 6ms/step - loss: 0.1994 - accuracy: 0.9259\n",
            "Epoch 2/100\n",
            "938/938 [==============================] - 6s 6ms/step - loss: 0.1717 - accuracy: 0.9362\n",
            "Epoch 3/100\n",
            "938/938 [==============================] - 6s 6ms/step - loss: 0.1583 - accuracy: 0.9417\n",
            "Epoch 4/100\n",
            "938/938 [==============================] - 6s 6ms/step - loss: 0.1439 - accuracy: 0.9460\n",
            "Epoch 5/100\n",
            "938/938 [==============================] - 6s 6ms/step - loss: 0.1328 - accuracy: 0.9494\n",
            "Epoch 6/100\n",
            "938/938 [==============================] - 6s 6ms/step - loss: 0.1169 - accuracy: 0.9563\n",
            "Epoch 7/100\n",
            "938/938 [==============================] - 6s 6ms/step - loss: 0.1046 - accuracy: 0.9617\n",
            "Epoch 8/100\n",
            "938/938 [==============================] - 6s 6ms/step - loss: 0.0965 - accuracy: 0.9642\n",
            "Epoch 9/100\n",
            "938/938 [==============================] - 6s 7ms/step - loss: 0.0932 - accuracy: 0.9654\n",
            "Epoch 10/100\n",
            "938/938 [==============================] - 6s 6ms/step - loss: 0.0858 - accuracy: 0.9689\n",
            "Epoch 11/100\n",
            "938/938 [==============================] - 6s 6ms/step - loss: 0.0819 - accuracy: 0.9704\n",
            "Epoch 12/100\n",
            "938/938 [==============================] - 6s 6ms/step - loss: 0.0699 - accuracy: 0.9752\n",
            "Epoch 13/100\n",
            "938/938 [==============================] - 6s 6ms/step - loss: 0.0622 - accuracy: 0.9772\n",
            "Epoch 14/100\n",
            "938/938 [==============================] - 6s 6ms/step - loss: 0.0656 - accuracy: 0.9761\n",
            "Epoch 15/100\n",
            "938/938 [==============================] - 6s 6ms/step - loss: 0.0627 - accuracy: 0.9774\n",
            "Epoch 16/100\n",
            "938/938 [==============================] - 6s 6ms/step - loss: 0.0623 - accuracy: 0.9782\n",
            "Epoch 17/100\n",
            "938/938 [==============================] - 6s 6ms/step - loss: 0.0574 - accuracy: 0.9796\n",
            "Epoch 18/100\n",
            "938/938 [==============================] - 6s 6ms/step - loss: 0.0596 - accuracy: 0.9791\n",
            "Epoch 19/100\n",
            "938/938 [==============================] - 6s 6ms/step - loss: 0.0517 - accuracy: 0.9820\n",
            "Epoch 20/100\n",
            "938/938 [==============================] - 6s 6ms/step - loss: 0.0551 - accuracy: 0.9812\n",
            "Epoch 21/100\n",
            "938/938 [==============================] - 6s 6ms/step - loss: 0.0424 - accuracy: 0.9854\n",
            "Epoch 22/100\n",
            "938/938 [==============================] - 6s 6ms/step - loss: 0.0484 - accuracy: 0.9833\n",
            "Epoch 23/100\n",
            "938/938 [==============================] - 6s 6ms/step - loss: 0.0486 - accuracy: 0.9834\n",
            "Epoch 24/100\n",
            "938/938 [==============================] - 6s 6ms/step - loss: 0.0457 - accuracy: 0.9845\n",
            "Epoch 25/100\n",
            "938/938 [==============================] - 6s 6ms/step - loss: 0.0401 - accuracy: 0.9864\n",
            "Epoch 26/100\n",
            "938/938 [==============================] - 6s 6ms/step - loss: 0.0489 - accuracy: 0.9842\n",
            "Epoch 27/100\n",
            "938/938 [==============================] - 6s 6ms/step - loss: 0.0384 - accuracy: 0.9865\n",
            "Epoch 28/100\n",
            "938/938 [==============================] - 6s 6ms/step - loss: 0.0409 - accuracy: 0.9869\n",
            "Epoch 29/100\n",
            "938/938 [==============================] - 6s 6ms/step - loss: 0.0371 - accuracy: 0.9882\n",
            "Epoch 30/100\n",
            "938/938 [==============================] - 6s 6ms/step - loss: 0.0422 - accuracy: 0.9864\n",
            "Epoch 31/100\n",
            "938/938 [==============================] - 6s 6ms/step - loss: 0.0351 - accuracy: 0.9884\n",
            "Epoch 32/100\n",
            "938/938 [==============================] - 6s 6ms/step - loss: 0.0344 - accuracy: 0.9887\n",
            "Epoch 33/100\n",
            "938/938 [==============================] - 6s 6ms/step - loss: 0.0346 - accuracy: 0.9886\n",
            "Epoch 34/100\n",
            "938/938 [==============================] - 6s 6ms/step - loss: 0.0392 - accuracy: 0.9885\n",
            "Epoch 35/100\n",
            "938/938 [==============================] - 6s 6ms/step - loss: 0.0345 - accuracy: 0.9893\n",
            "Epoch 36/100\n",
            "938/938 [==============================] - 6s 6ms/step - loss: 0.0355 - accuracy: 0.9892\n",
            "Epoch 37/100\n",
            "938/938 [==============================] - 6s 6ms/step - loss: 0.0339 - accuracy: 0.9896\n",
            "Epoch 38/100\n",
            "938/938 [==============================] - 6s 6ms/step - loss: 0.0433 - accuracy: 0.9879\n",
            "Epoch 39/100\n",
            "938/938 [==============================] - 6s 6ms/step - loss: 0.0339 - accuracy: 0.9895\n",
            "Epoch 40/100\n",
            "938/938 [==============================] - 6s 6ms/step - loss: 0.0280 - accuracy: 0.9910\n",
            "Epoch 41/100\n",
            "938/938 [==============================] - 6s 6ms/step - loss: 0.0325 - accuracy: 0.9903\n",
            "Epoch 42/100\n",
            "938/938 [==============================] - 6s 6ms/step - loss: 0.0358 - accuracy: 0.9896\n",
            "Epoch 43/100\n",
            "938/938 [==============================] - 6s 6ms/step - loss: 0.0282 - accuracy: 0.9914\n",
            "Epoch 44/100\n",
            "938/938 [==============================] - 6s 6ms/step - loss: 0.0275 - accuracy: 0.9913\n",
            "Epoch 45/100\n",
            "938/938 [==============================] - 6s 6ms/step - loss: 0.0328 - accuracy: 0.9908\n",
            "Epoch 46/100\n",
            "938/938 [==============================] - 6s 6ms/step - loss: 0.0351 - accuracy: 0.9895\n",
            "Epoch 47/100\n",
            "938/938 [==============================] - 6s 6ms/step - loss: 0.0371 - accuracy: 0.9897\n",
            "Epoch 48/100\n",
            "938/938 [==============================] - 6s 6ms/step - loss: 0.0310 - accuracy: 0.9916\n",
            "Epoch 49/100\n",
            "938/938 [==============================] - 6s 6ms/step - loss: 0.0363 - accuracy: 0.9898\n",
            "Epoch 50/100\n",
            "938/938 [==============================] - 6s 6ms/step - loss: 0.0274 - accuracy: 0.9921\n",
            "Epoch 51/100\n",
            "938/938 [==============================] - 6s 6ms/step - loss: 0.0241 - accuracy: 0.9928\n",
            "Epoch 52/100\n",
            "938/938 [==============================] - 6s 6ms/step - loss: 0.0389 - accuracy: 0.9898\n",
            "Epoch 53/100\n",
            "938/938 [==============================] - 6s 6ms/step - loss: 0.0299 - accuracy: 0.9918\n",
            "Epoch 54/100\n",
            "938/938 [==============================] - 6s 6ms/step - loss: 0.0234 - accuracy: 0.9929\n",
            "Epoch 55/100\n",
            "938/938 [==============================] - 6s 6ms/step - loss: 0.0380 - accuracy: 0.9901\n",
            "Epoch 56/100\n",
            "938/938 [==============================] - 6s 6ms/step - loss: 0.0245 - accuracy: 0.9928\n",
            "Epoch 57/100\n",
            "938/938 [==============================] - 6s 6ms/step - loss: 0.0351 - accuracy: 0.9913\n",
            "Epoch 58/100\n",
            "938/938 [==============================] - 6s 6ms/step - loss: 0.0278 - accuracy: 0.9924\n",
            "Epoch 59/100\n",
            "938/938 [==============================] - 6s 6ms/step - loss: 0.0250 - accuracy: 0.9936\n",
            "Epoch 60/100\n",
            "938/938 [==============================] - 6s 6ms/step - loss: 0.0337 - accuracy: 0.9912\n",
            "Epoch 61/100\n",
            "938/938 [==============================] - 6s 6ms/step - loss: 0.0221 - accuracy: 0.9936\n",
            "Epoch 62/100\n",
            "938/938 [==============================] - 6s 6ms/step - loss: 0.0291 - accuracy: 0.9925\n",
            "Epoch 63/100\n",
            "938/938 [==============================] - 6s 6ms/step - loss: 0.0292 - accuracy: 0.9921\n",
            "Epoch 64/100\n",
            "938/938 [==============================] - 6s 6ms/step - loss: 0.0283 - accuracy: 0.9926\n",
            "Epoch 65/100\n",
            "938/938 [==============================] - 6s 6ms/step - loss: 0.0256 - accuracy: 0.9937\n",
            "Epoch 66/100\n",
            "938/938 [==============================] - 6s 6ms/step - loss: 0.0262 - accuracy: 0.9934\n",
            "Epoch 67/100\n",
            "938/938 [==============================] - 6s 6ms/step - loss: 0.0277 - accuracy: 0.9932\n",
            "Epoch 68/100\n",
            "938/938 [==============================] - 6s 6ms/step - loss: 0.0278 - accuracy: 0.9928\n",
            "Epoch 69/100\n",
            "938/938 [==============================] - 6s 6ms/step - loss: 0.0212 - accuracy: 0.9943\n",
            "Epoch 70/100\n",
            "938/938 [==============================] - 6s 6ms/step - loss: 0.0382 - accuracy: 0.9911\n",
            "Epoch 71/100\n",
            "938/938 [==============================] - 6s 6ms/step - loss: 0.0200 - accuracy: 0.9945\n",
            "Epoch 72/100\n",
            "938/938 [==============================] - 6s 6ms/step - loss: 0.0311 - accuracy: 0.9925\n",
            "Epoch 73/100\n",
            "938/938 [==============================] - 6s 6ms/step - loss: 0.0246 - accuracy: 0.9942\n",
            "Epoch 74/100\n",
            "938/938 [==============================] - 6s 6ms/step - loss: 0.0280 - accuracy: 0.9935\n",
            "Epoch 75/100\n",
            "938/938 [==============================] - 6s 6ms/step - loss: 0.0267 - accuracy: 0.9932\n",
            "Epoch 76/100\n",
            "938/938 [==============================] - 6s 6ms/step - loss: 0.0230 - accuracy: 0.9944\n",
            "Epoch 77/100\n",
            "938/938 [==============================] - 6s 6ms/step - loss: 0.0244 - accuracy: 0.9940\n",
            "Epoch 78/100\n",
            "938/938 [==============================] - 6s 6ms/step - loss: 0.0274 - accuracy: 0.9938\n",
            "Epoch 79/100\n",
            "938/938 [==============================] - 6s 6ms/step - loss: 0.0212 - accuracy: 0.9944\n",
            "Epoch 80/100\n",
            "938/938 [==============================] - 6s 6ms/step - loss: 0.0257 - accuracy: 0.9938\n",
            "Epoch 81/100\n",
            "938/938 [==============================] - 6s 6ms/step - loss: 0.0274 - accuracy: 0.9934\n",
            "Epoch 82/100\n",
            "938/938 [==============================] - 6s 6ms/step - loss: 0.0224 - accuracy: 0.9939\n",
            "Epoch 83/100\n",
            "938/938 [==============================] - 6s 6ms/step - loss: 0.0229 - accuracy: 0.9944\n",
            "Epoch 84/100\n",
            "938/938 [==============================] - 6s 6ms/step - loss: 0.0309 - accuracy: 0.9934\n",
            "Epoch 85/100\n",
            "938/938 [==============================] - 6s 6ms/step - loss: 0.0253 - accuracy: 0.9939\n",
            "Epoch 86/100\n",
            "938/938 [==============================] - 6s 6ms/step - loss: 0.0228 - accuracy: 0.9948\n",
            "Epoch 87/100\n",
            "938/938 [==============================] - 6s 6ms/step - loss: 0.0279 - accuracy: 0.9944\n",
            "Epoch 88/100\n",
            "938/938 [==============================] - 6s 6ms/step - loss: 0.0286 - accuracy: 0.9937\n",
            "Epoch 89/100\n",
            "938/938 [==============================] - 6s 6ms/step - loss: 0.0236 - accuracy: 0.9945\n",
            "Epoch 90/100\n",
            "938/938 [==============================] - 6s 6ms/step - loss: 0.0367 - accuracy: 0.9927\n",
            "Epoch 91/100\n",
            "938/938 [==============================] - 6s 6ms/step - loss: 0.0243 - accuracy: 0.9948\n",
            "Epoch 92/100\n",
            "938/938 [==============================] - 6s 6ms/step - loss: 0.0165 - accuracy: 0.9958\n",
            "Epoch 93/100\n",
            "938/938 [==============================] - 6s 6ms/step - loss: 0.0283 - accuracy: 0.9938\n",
            "Epoch 94/100\n",
            "938/938 [==============================] - 6s 6ms/step - loss: 0.0335 - accuracy: 0.9933\n",
            "Epoch 95/100\n",
            "938/938 [==============================] - 6s 6ms/step - loss: 0.0197 - accuracy: 0.9954\n",
            "Epoch 96/100\n",
            "938/938 [==============================] - 6s 6ms/step - loss: 0.0219 - accuracy: 0.9952\n",
            "Epoch 97/100\n",
            "938/938 [==============================] - 6s 6ms/step - loss: 0.0230 - accuracy: 0.9948\n",
            "Epoch 98/100\n",
            "938/938 [==============================] - 6s 6ms/step - loss: 0.0267 - accuracy: 0.9944\n",
            "Epoch 99/100\n",
            "938/938 [==============================] - 6s 6ms/step - loss: 0.0269 - accuracy: 0.9945\n",
            "Epoch 100/100\n",
            "938/938 [==============================] - 6s 6ms/step - loss: 0.0293 - accuracy: 0.9940\n"
          ]
        },
        {
          "output_type": "execute_result",
          "data": {
            "text/plain": [
              "<keras.callbacks.History at 0x7fbe74d92b50>"
            ]
          },
          "metadata": {},
          "execution_count": 13
        }
      ]
    },
    {
      "cell_type": "code",
      "source": [
        "test_loss, test_acc = model.evaluate(test_images, test_labels, verbose=2)\n",
        "print('\\nTest accuracy : ', test_acc)"
      ],
      "metadata": {
        "colab": {
          "base_uri": "https://localhost:8080/"
        },
        "id": "nyAVJigz9jJA",
        "outputId": "e55ded91-1219-4002-f3a4-2094bd113467"
      },
      "execution_count": 18,
      "outputs": [
        {
          "output_type": "stream",
          "name": "stdout",
          "text": [
            "313/313 - 0s - loss: 0.3231 - accuracy: 0.8851 - 424ms/epoch - 1ms/step\n",
            "\n",
            "Test accuracy :  0.8851000070571899\n"
          ]
        }
      ]
    },
    {
      "cell_type": "code",
      "source": [
        "probability_model = tf.keras.Sequential([model,\n",
        "                                         tf.keras.layers.Softmax()])"
      ],
      "metadata": {
        "id": "2eDMJypB-QcQ"
      },
      "execution_count": 16,
      "outputs": []
    },
    {
      "cell_type": "code",
      "source": [
        "predictions = probability_model.predict(test_images)"
      ],
      "metadata": {
        "id": "s4Kz3_f3FBDT"
      },
      "execution_count": 17,
      "outputs": []
    },
    {
      "cell_type": "code",
      "source": [
        "predictions[0]"
      ],
      "metadata": {
        "colab": {
          "base_uri": "https://localhost:8080/"
        },
        "id": "BWgZej2kFN8h",
        "outputId": "7923b49c-62f8-498c-c638-8e72d6948282"
      },
      "execution_count": 18,
      "outputs": [
        {
          "output_type": "execute_result",
          "data": {
            "text/plain": [
              "array([0., 0., 0., 0., 0., 0., 0., 0., 0., 1.], dtype=float32)"
            ]
          },
          "metadata": {},
          "execution_count": 18
        }
      ]
    },
    {
      "cell_type": "code",
      "source": [
        "def plot_images(i, predictions_array, true_label, img):\n",
        "  true_label, img = true_label[i],img[i]\n",
        "  plt.grid(False)\n",
        "  plt.xticks([])\n",
        "  plt.yticks([])\n",
        "\n",
        "  plt.imshow(img, cmap=plt.cm.binary)\n",
        "\n",
        "  predicted_label = np.argmax(predictions_array)\n",
        "  if predicted_label == true_label:\n",
        "    color = 'blue'\n",
        "  else:\n",
        "    color = 'red'\n",
        "\n",
        "    plt.xlabel(\"{} {:2.0f}% ({})\".format(class_names[predicted_label],\n",
        "                                         100*np.max(predictions_array),\n",
        "                                         class_names[true_label]),\n",
        "                                         color=color)\n",
        "    \n",
        "def plot_valuse_array(i, predictions_array, true_label):\n",
        "  true_label = true_label[i]\n",
        "  plt.grid(False)\n",
        "  plt.xticks(range(10))\n",
        "  plt.yticks([])\n",
        "  thisplot = plt.bar(range(10), predictions_array,color=\"#777777\")\n",
        "  plt.ylim([0, 1])\n",
        "  predicted_label = np.argmax(predictions_array)\n",
        "\n",
        "  thisplot[predicted_label].set_color('red')\n",
        "  thisplot[true_label].set_color('blue')"
      ],
      "metadata": {
        "id": "xyu3ZE9oFb9G"
      },
      "execution_count": 21,
      "outputs": []
    },
    {
      "cell_type": "code",
      "source": [
        "i = 0\n",
        "plt.figure(figsize=(6,3))\n",
        "plt.subplot(1,2,1)\n",
        "plot_images(i, predictions[i], test_labels, test_images)\n",
        "plt.subplot(1,2,2)\n",
        "plot_valuse_array(i, predictions[i], test_labels)\n",
        "plt.show()  "
      ],
      "metadata": {
        "colab": {
          "base_uri": "https://localhost:8080/",
          "height": 211
        },
        "id": "sU5UCQumH4U-",
        "outputId": "7fd3408c-a356-4787-f2e3-2033b4053b2f"
      },
      "execution_count": 22,
      "outputs": [
        {
          "output_type": "display_data",
          "data": {
            "text/plain": [
              "<Figure size 432x216 with 2 Axes>"
            ],
            "image/png": "[encoded data removed]"
          },
          "metadata": {
            "needs_background": "light"
          }
        }
      ]
    },
    {
      "cell_type": "code",
      "source": [
        "i = 12\n",
        "plt.figure(figsize=(6,3))\n",
        "plt.subplot(1,2,1)\n",
        "plot_images(i, predictions[i], test_labels, test_images)\n",
        "plt.subplot(1,2,2)\n",
        "plot_valuse_array(i, predictions[i], test_labels)\n",
        "plt.show()"
      ],
      "metadata": {
        "colab": {
          "base_uri": "https://localhost:8080/",
          "height": 211
        },
        "id": "lTATpyTxIcId",
        "outputId": "e03f924a-777e-4b61-9260-f82c2702b742"
      },
      "execution_count": 24,
      "outputs": [
        {
          "output_type": "display_data",
          "data": {
            "text/plain": [
              "<Figure size 432x216 with 2 Axes>"
            ],
            "image/png": "[encoded data removed]"
          },
          "metadata": {
            "needs_background": "light"
          }
        }
      ]
    },
    {
      "cell_type": "code",
      "source": [
        "num_rows = 5\n",
        "num_cols = 3\n",
        "num_images = num_rows*num_cols\n",
        "plt.figure(figsize=(2*2*num_cols, 2*num_rows))\n",
        "for i in range(num_images):\n",
        "  plt.subplot(num_rows, 2*num_cols, 2*i+1)\n",
        "  plot_images(i, predictions[i], test_labels, test_images)\n",
        "  plt.subplot(num_rows, 2*num_cols, 2*i+2)\n",
        "  plot_valuse_array(i, predictions[i],test_labels)\n",
        "plt.tight_layout()\n",
        "plt.show()"
      ],
      "metadata": {
        "colab": {
          "base_uri": "https://localhost:8080/",
          "height": 631
        },
        "id": "v7RweRKqIf5g",
        "outputId": "13c4548e-19cf-40f8-892c-1c6f2fa2b980"
      },
      "execution_count": 26,
      "outputs": [
        {
          "output_type": "display_data",
          "data": {
            "text/plain": [
              "<Figure size 864x720 with 30 Axes>"
            ],
            "image/png": "[encoded data removed]"
          },
          "metadata": {
            "needs_background": "light"
          }
        }
      ]
    },
    {
      "cell_type": "code",
      "source": [
        "img = test_images[1]\n",
        "\n",
        "print(img.shape)"
      ],
      "metadata": {
        "colab": {
          "base_uri": "https://localhost:8080/"
        },
        "id": "IBqN7iBiQP9D",
        "outputId": "2e0720bf-a955-4804-a771-44d95d93ca09"
      },
      "execution_count": 28,
      "outputs": [
        {
          "output_type": "stream",
          "name": "stdout",
          "text": [
            "(28, 28)\n"
          ]
        }
      ]
    },
    {
      "cell_type": "code",
      "source": [
        "img = (np.expand_dims(img,0))\n",
        "\n",
        "print(img.shape)"
      ],
      "metadata": {
        "colab": {
          "base_uri": "https://localhost:8080/"
        },
        "id": "qnEPC8VNRLP3",
        "outputId": "a00426ef-7641-4241-a797-f7a8cb96c3c8"
      },
      "execution_count": 29,
      "outputs": [
        {
          "output_type": "stream",
          "name": "stdout",
          "text": [
            "(1, 28, 28)\n"
          ]
        }
      ]
    },
    {
      "cell_type": "code",
      "source": [
        "predictions_single = probability_model.predict(img)\n",
        "\n",
        "print(predictions_single)"
      ],
      "metadata": {
        "colab": {
          "base_uri": "https://localhost:8080/"
        },
        "id": "PzWQrbchRUQa",
        "outputId": "f3530c57-97d1-4e5e-d9cc-211e83e12614"
      },
      "execution_count": 30,
      "outputs": [
        {
          "output_type": "stream",
          "name": "stdout",
          "text": [
            "[[0. 0. 1. 0. 0. 0. 0. 0. 0. 0.]]\n"
          ]
        }
      ]
    },
    {
      "cell_type": "code",
      "source": [
        "plot_valuse_array(1, predictions_single[0], test_labels)\n",
        "_ = plt.xticks(range(10), class_names, rotation=45)\n",
        "plt.show()"
      ],
      "metadata": {
        "colab": {
          "base_uri": "https://localhost:8080/",
          "height": 300
        },
        "id": "7GAKs6geRfuF",
        "outputId": "6d6a7e1f-3850-4a02-b7dc-207fc10371f1"
      },
      "execution_count": 32,
      "outputs": [
        {
          "output_type": "display_data",
          "data": {
            "text/plain": [
              "<Figure size 432x288 with 1 Axes>"
            ],
            "image/png": "[encoded data removed]"
          },
          "metadata": {
            "needs_background": "light"
          }
        }
      ]
    },
    {
      "cell_type": "code",
      "source": [
        "np.argmax(predictions_single[0])"
      ],
      "metadata": {
        "colab": {
          "base_uri": "https://localhost:8080/"
        },
        "id": "s8O6FI7QRi_D",
        "outputId": "da4f595a-acc8-4985-c4a8-2993a60ddf87"
      },
      "execution_count": 33,
      "outputs": [
        {
          "output_type": "execute_result",
          "data": {
            "text/plain": [
              "2"
            ]
          },
          "metadata": {},
          "execution_count": 33
        }
      ]
    },
    {
      "cell_type": "code",
      "source": [
        ""
      ],
      "metadata": {
        "id": "pyh1krF8RpSG"
      },
      "execution_count": null,
      "outputs": []
    }
  ]
}